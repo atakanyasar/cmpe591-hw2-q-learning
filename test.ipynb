{
 "cells": [
  {
   "cell_type": "code",
   "execution_count": null,
   "metadata": {},
   "outputs": [],
   "source": [
    "import matplotlib.pyplot as plt\n",
    "import numpy as np\n",
    "import time\n",
    "import os\n",
    "from homework2 import Hw2Env\n",
    "from dqn import DQN\n",
    "from config import Config\n",
    "from dqn import get_target, init_target\n",
    "import csv\n",
    "import torch\n",
    "\n",
    "def test(config: Config, dqn: DQN):\n",
    "    env = Hw2Env(n_actions=config.action_dim, render_mode=\"gui\")\n",
    "\n",
    "    for episode in range(config.num_episodes):\n",
    "        env.reset()\n",
    "        state = env.high_level_state()\n",
    "        prev_state = state[:4]\n",
    "        done = False\n",
    "        cumulative_reward = 0.0\n",
    "        episode_steps = 0\n",
    "        start_time = time.time()\n",
    "\n",
    "        while not done:\n",
    "\n",
    "            concatenated_state = np.concatenate((state, prev_state), axis=None)\n",
    "            _state = torch.FloatTensor(concatenated_state).to(config.device).unsqueeze(0)\n",
    "            with torch.no_grad():\n",
    "                action = dqn.forward(_state).argmax(dim=1).item()\n",
    "\n",
    "            next_state, reward, is_terminal, is_truncated = env.step(action)\n",
    "    \n",
    "            done = is_terminal or is_truncated\n",
    "            cumulative_reward += reward\n",
    "            episode_steps += 1\n",
    "            concatenated_next_state = np.concatenate((next_state, state[:4]), axis=None)\n",
    "\n",
    "            prev_state = state[:4]\n",
    "            state = next_state\n",
    "        \n",
    "        end_time = time.time()\n",
    "\n",
    "\n"
   ]
  },
  {
   "cell_type": "code",
   "execution_count": null,
   "metadata": {},
   "outputs": [],
   "source": [
    "config = Config()\n",
    "dqn = DQN(config)\n",
    "dqn.load_state_dict(torch.load(\"dqn_model.pth\"))\n",
    "dqn.eval()\n",
    "test(config, dqn)\n"
   ]
  },
  {
   "cell_type": "code",
   "execution_count": null,
   "metadata": {},
   "outputs": [],
   "source": []
  }
 ],
 "metadata": {
  "kernelspec": {
   "display_name": "Python 3",
   "language": "python",
   "name": "python3"
  },
  "language_info": {
   "codemirror_mode": {
    "name": "ipython",
    "version": 3
   },
   "file_extension": ".py",
   "mimetype": "text/x-python",
   "name": "python",
   "nbconvert_exporter": "python",
   "pygments_lexer": "ipython3",
   "version": "3.8.6"
  }
 },
 "nbformat": 4,
 "nbformat_minor": 2
}
