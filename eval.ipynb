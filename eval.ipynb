{
 "cells": [
  {
   "cell_type": "code",
   "execution_count": null,
   "metadata": {},
   "outputs": [],
   "source": [
    "import pandas as pd\n",
    "import matplotlib.pyplot as plt\n",
    "import numpy as np\n",
    "\n",
    "# Load the CSV file\n",
    "df = pd.read_csv(\"action_reward.csv\")\n",
    "\n",
    "# Create a time index (row numbers as a proxy for time)\n",
    "df[\"Step\"] = range(len(df))\n",
    "\n",
    "# Clip rewards to a range (adjust if needed)\n",
    "reward_min, reward_max = -0.4, 0.3\n",
    "df[\"Clipped_Reward\"] = np.clip(df[\"Reward\"], reward_min, reward_max)\n",
    "\n",
    "# Set rolling window size\n",
    "window_size = 100  # Adjust for smoother/more detailed trends\n",
    "\n",
    "# Compute rolling average of clipped rewards\n",
    "df[\"Rolling_Clipped_Reward\"] = df[\"Clipped_Reward\"].rolling(window=window_size, min_periods=1).mean()\n",
    "\n",
    "# Plot raw and smoothed clipped rewards\n",
    "plt.figure(figsize=(12, 6))\n",
    "plt.plot(df[\"Step\"], df[\"Clipped_Reward\"], alpha=0.3, color=\"gray\", label=\"Clipped Reward\")  # Raw clipped rewards\n",
    "plt.plot(df[\"Step\"], df[\"Rolling_Clipped_Reward\"], label=f\"Rolling Mean (window={window_size})\", color=\"b\")\n",
    "\n",
    "# Labels and title\n",
    "plt.xlabel(\"Step\")\n",
    "plt.ylabel(\"Reward\")\n",
    "plt.title(\"Clipped & Smoothed Reward Trend Over Step\")\n",
    "plt.legend()\n",
    "plt.grid(True)\n",
    "\n",
    "# Show plot\n",
    "plt.show()\n"
   ]
  },
  {
   "cell_type": "code",
   "execution_count": null,
   "metadata": {},
   "outputs": [],
   "source": []
  },
  {
   "cell_type": "code",
   "execution_count": null,
   "metadata": {},
   "outputs": [],
   "source": []
  }
 ],
 "metadata": {
  "kernelspec": {
   "display_name": "Python 3",
   "language": "python",
   "name": "python3"
  },
  "language_info": {
   "codemirror_mode": {
    "name": "ipython",
    "version": 3
   },
   "file_extension": ".py",
   "mimetype": "text/x-python",
   "name": "python",
   "nbconvert_exporter": "python",
   "pygments_lexer": "ipython3",
   "version": "3.8.6"
  }
 },
 "nbformat": 4,
 "nbformat_minor": 2
}
